{
 "cells": [
  {
   "cell_type": "markdown",
   "metadata": {},
   "source": [
    "# <b>Human Speech Recognition Using Convolutional Neural Network (CNN) </b>\n",
    "#### Dataset : <a href=\"https://www.openslr.org/12\">librispeech_asr[train-clean-100]</a> and <a href=\"https://huggingface.co/datasets/librispeech_asr\">Details</a>"
   ]
  },
  {
   "cell_type": "markdown",
   "metadata": {},
   "source": [
    "## TCOP 4020 Co-Op Final Project"
   ]
  },
  {
   "cell_type": "markdown",
   "metadata": {},
   "source": [
    "<b>Members:</b> \n",
    "1. Vivek Patel (101432083) \n",
    "2. Prakhar patel (101413720)"
   ]
  },
  {
   "cell_type": "markdown",
   "metadata": {},
   "source": [
    "### Project GitHub: https://github.com/prakharninja0927/Human-Voice-Recognition-Using-CNN"
   ]
  },
  {
   "cell_type": "markdown",
   "metadata": {},
   "source": [
    "## Problem Statement"
   ]
  },
  {
   "cell_type": "markdown",
   "metadata": {},
   "source": [
    "The project addresses persistent challenges in achieving precise and context-aware human speech recognition. By leveraging Convolutional Neural Networks (CNNs), it aims to optimize models for sequential auditory data and enhance adaptability for improved accuracy in transcribing and comprehending diverse speech patterns."
   ]
  },
  {
   "cell_type": "markdown",
   "metadata": {},
   "source": [
    "## Contents"
   ]
  },
  {
   "cell_type": "markdown",
   "metadata": {},
   "source": [
    "| SNo. | Contents | Link |\n",
    "| -------- | -------- | -------- |\n",
    "| 1 | <b> Libraries Imports </b> | [Jump To Cell](#lib) |\n",
    "| 2 | <b> Lets Understand What will be the folder stucture we will require? </b>| [Jump To Cell](#file) |\n",
    "| 3 | <b> Convert all <u>.flac</u> file to <u>.wav</u> file extension. Geneate CSV file containing Class <u>ID</u> and afiiliated file <u>Path</u> </b>| [Jump To Cell](#CSV) |\n",
    "| 4 | <b> Defining and Performing Feature Extraction From Audio </b>| [Jump To Cell](#define) |\n",
    "| 4.1 | Description of Extracted Audio Features | [Jump To Cell](#Features) |\n",
    "| 5 | <b> Performing Encoding, Splitting Data, Feature Scaling and Adjust Dimensions </b>| [Jump To Cell](#encoding) |\n",
    "| 6 | <b> Sequential Model Structuring and Training  </b>| [Jump To Cell](#model) |\n",
    "| 6.1 | <b> Evaluating Model and Observing Performance </b>| [Jump To Cell](#evaluate) |\n",
    "| 6.1 | <b> Saving Model For Future Usage </b>| [Jump To Cell](#save) |\n",
    "| 7 | <b> Conclusion </b>| [Jump To Cell](#conclusion) |\n",
    "| 8 | <b> Learning Outcomes </b> | [Jump To Cell](#learning) |\n"
   ]
  },
  {
   "cell_type": "markdown",
   "metadata": {},
   "source": [
    "<a id='lib'></a>"
   ]
  },
  {
   "cell_type": "markdown",
   "metadata": {},
   "source": [
    "## <b> 1. Libraries Imports </b>\n"
   ]
  },
  {
   "cell_type": "code",
   "execution_count": 1,
   "metadata": {},
   "outputs": [
    {
     "name": "stdout",
     "output_type": "stream",
     "text": [
      "WARNING:tensorflow:From c:\\Users\\patel\\miniconda3\\envs\\myenv\\lib\\site-packages\\keras\\src\\losses.py:2976: The name tf.losses.sparse_softmax_cross_entropy is deprecated. Please use tf.compat.v1.losses.sparse_softmax_cross_entropy instead.\n",
      "\n"
     ]
    }
   ],
   "source": [
    "import os\n",
    "import shutil\n",
    "import csv\n",
    "\n",
    "import soundfile as sf\n",
    "\n",
    "import sys\n",
    "import pandas as pd\n",
    "import numpy as np\n",
    "\n",
    "# librosa is a Python library for analyzing audio and music. It can be used to extract the data from the audio files we will see it later.\n",
    "import librosa\n",
    "import librosa.display\n",
    "import seaborn as sns\n",
    "import matplotlib.pyplot as plt\n",
    "\n",
    "\n",
    "from sklearn.preprocessing import StandardScaler, OneHotEncoder\n",
    "from sklearn.metrics import confusion_matrix, classification_report\n",
    "from sklearn.model_selection import train_test_split\n",
    "\n",
    "# to play the audio files\n",
    "from IPython.display import Audio\n",
    "\n",
    "from tensorflow import keras\n",
    "from tensorflow.keras.callbacks import ReduceLROnPlateau\n",
    "from tensorflow.keras.models import Sequential\n",
    "from tensorflow.keras.layers import Dense, Conv1D, MaxPooling1D, Flatten, Dropout, BatchNormalization\n",
    "# from tensorflow.keras.utils import np_utils, to_categorical\n",
    "from tensorflow.keras.callbacks import ModelCheckpoint\n",
    "\n",
    "import warnings\n",
    "if not sys.warnoptions:\n",
    "    warnings.simplefilter(\"ignore\")\n",
    "warnings.filterwarnings(\"ignore\", category=DeprecationWarning) "
   ]
  },
  {
   "cell_type": "markdown",
   "metadata": {},
   "source": [
    "<a id='file'></a>"
   ]
  },
  {
   "cell_type": "markdown",
   "metadata": {},
   "source": [
    "## <b> 2. Lets Understand What will be the folder stucture we will require? </b>\n",
    "- Stucture after unzipping train-clean-100.tar.gz file(<b>Before</b>)\n",
    "- What we need is to copy or cut <b><u>train-clean-100</u></b> folder inside <b><u>LibriSpeech</u></b> folder and paste to our <b><u>project dir</u></b> with .ipynb file"
   ]
  },
  {
   "cell_type": "markdown",
   "metadata": {},
   "source": [
    "<div style=\"display: flex; justify-content: space-between;\">\n",
    "    <pre style=\"font-size:15px; flex-basis: 50%;\">\n",
    "    <h2>Before</h2>\n",
    "<b>train-clean-100/</b>\n",
    "        └── LibriSpeech/\n",
    "            ├── BOOKS.txt\n",
    "            ├── CHAPTERS.txt\n",
    "            ├── LICENSE.txt\n",
    "            ├── README.txt\n",
    "            ├── SPEAKERS\n",
    "            └── train-clean-100/\n",
    "                ├── 1624(Class ID Folder)/\n",
    "                │   ├── 168623(Chapter ID)/\n",
    "                │   │   ├── All Flac files\n",
    "                │   │   └── One Transcript(.txt)\n",
    "                │   └── 142933(Chapter ID)/\n",
    "                │       ├── All Flac files\n",
    "                │       └── One Transcript(.txt)\n",
    "                ├── ....\n",
    "                ├── ....\n",
    "                └── ....\n",
    "    </pre>\n",
    "    <pre style=\"font-size:15px; flex-basis: 50%;\">\n",
    "    <h2>After</h2>\n",
    "<b> Project Dir/</b>\n",
    "        ├── train-clean-100/\n",
    "        │   ├── 1624(Class ID Folder)/\n",
    "        │   │   └── 168623(Chapter ID)/\n",
    "        │   │       ├── All Flac files\n",
    "        │   │       └── One Transcript(.txt)\n",
    "        │   ├── ....\n",
    "        │   ├── ....\n",
    "        │   └── ....\n",
    "        └── .ipynb file\n",
    "    </pre>\n",
    "</div>"
   ]
  },
  {
   "cell_type": "markdown",
   "metadata": {},
   "source": [
    "#### Now We have to bring all .flac files which are in sub-sub folders of train-clean-100 in to <b><u>train-clean-100</u><b>\n",
    "\n",
    "\n",
    "<div style=\"display: flex; justify-content: space-between;\">\n",
    "    <pre style=\"font-size:15px; flex-basis: 50%;\">\n",
    "    <h2>Before</h2>\n",
    "<b> train-clean-100/</b>\n",
    "         ├── 1624(Class ID Folder)/\n",
    "         │   ├── 168623(Chapter ID)/\n",
    "         │   │   ├── All Flac files\n",
    "         │   │   └── One Transcript(.txt)\n",
    "         │   └── 142933(Chapter ID)/\n",
    "         │       ├── All Flac files\n",
    "         │       └── One Transcript(.txt)\n",
    "         ├── ....\n",
    "         ├── ....\n",
    "         └── ....\n",
    "    </pre>\n",
    "    <pre style=\"font-size:15px; flex-basis: 50%;\">\n",
    "    <h2>After</h2>\n",
    "<b> train-clean-100/</b>\n",
    "         └── All .flac files\n",
    "    </pre>\n",
    "</div>\n",
    "\n",
    "\n",
    "\n",
    "\n",
    "\n",
    "\n",
    "\n",
    "\n"
   ]
  },
  {
   "cell_type": "markdown",
   "metadata": {},
   "source": [
    "### Move all file from sub-sub dir of train-clean-100 to sub dir of train-clean-100 and delete sub-sub dir folders"
   ]
  },
  {
   "cell_type": "code",
   "execution_count": 2,
   "metadata": {},
   "outputs": [
    {
     "name": "stdout",
     "output_type": "stream",
     "text": [
      "Process Completed\n"
     ]
    }
   ],
   "source": [
    "# Move all file from sub-sub dir of train-clean-100 to sub dir of train-clean-100 and delete sub-sub dir folders\n",
    "def move_and_delete_subdirectories(root_dir):\n",
    "    # Iterate over each subdirectory in the root directory\n",
    "    for sub_dir in os.listdir(root_dir):\n",
    "        source_path = os.path.join(root_dir, sub_dir)\n",
    "        \n",
    "        # Check if the path is a directory\n",
    "        if os.path.isdir(source_path):\n",
    "            # Iterate over subdirectories in the current subdirectory\n",
    "            for sub_sub_dir in os.listdir(source_path):\n",
    "                sub_sub_dir_path = os.path.join(source_path, sub_sub_dir)\n",
    "                \n",
    "                # Check if the sub-subdirectory is a directory\n",
    "                if os.path.isdir(sub_sub_dir_path):\n",
    "                    # Move files from sub-subdirectory to the root's first subdirectory\n",
    "                    for file_name in os.listdir(sub_sub_dir_path):\n",
    "                        file_path = os.path.join(sub_sub_dir_path, file_name)\n",
    "                        dest_path = os.path.join(root_dir, sub_dir, file_name)\n",
    "                        shutil.move(file_path, dest_path)\n",
    "\n",
    "                    # Remove the sub-subdirectory after moving its contents\n",
    "                    shutil.rmtree(sub_sub_dir_path)\n",
    "\n",
    "# Set your root directory\n",
    "root_dir = 'train-clean-100'\n",
    "\n",
    "# Call the function to move files from sub-subdirectories to the first subdirectory of the root\n",
    "# and delete the sub-subdirectories\n",
    "move_and_delete_subdirectories(root_dir)\n",
    "print('Process Completed')"
   ]
  },
  {
   "cell_type": "markdown",
   "metadata": {},
   "source": [
    "### Move all file from sub dir of train-clean-100 to train-clean-100 and delete sub dir train-clean-100"
   ]
  },
  {
   "cell_type": "code",
   "execution_count": 3,
   "metadata": {},
   "outputs": [
    {
     "name": "stdout",
     "output_type": "stream",
     "text": [
      "Process Completed\n"
     ]
    }
   ],
   "source": [
    "def move_files_and_delete_subdirs(root_directory):\n",
    "    for subdir, _, files in os.walk(root_directory):\n",
    "        for file in files:\n",
    "            src_path = os.path.join(subdir, file)   \n",
    "            dest_path = os.path.join(root_directory, file)\n",
    "\n",
    "            # Check if the destination file already exists\n",
    "            if os.path.exists(dest_path):\n",
    "                print(f\"File {file} already exists in the root directory. Skipping.\")\n",
    "            else:\n",
    "                # Move the file to the root directory\n",
    "                shutil.move(src_path, dest_path)\n",
    "\n",
    "    # Delete subdirectories after moving files\n",
    "    for subdir in os.listdir(root_directory):\n",
    "        subdir_path = os.path.join(root_directory, subdir)\n",
    "        if os.path.isdir(subdir_path):\n",
    "            shutil.rmtree(subdir_path)\n",
    "            \n",
    "\n",
    "# Replace 'your/root/directory' with the actual path to your root directory\n",
    "root_directory = 'train-clean-100'\n",
    "move_files_and_delete_subdirs(root_directory)\n",
    "print('Process Completed')"
   ]
  },
  {
   "cell_type": "markdown",
   "metadata": {},
   "source": [
    "<a id='CSV'></a>"
   ]
  },
  {
   "cell_type": "markdown",
   "metadata": {},
   "source": [
    "## <b>3. Convert all <u>.flac</u> file to <u>.wav</u> file extension. Geneate CSV file containing Class <u>ID</u> and afiiliated file <u>Path</u></b>\n",
    "<a id='CSV'></a>\n",
    "<br>\n",
    "Before running below cell create output folder in project dir along with train-clean-100"
   ]
  },
  {
   "cell_type": "code",
   "execution_count": 4,
   "metadata": {},
   "outputs": [
    {
     "name": "stdout",
     "output_type": "stream",
     "text": [
      "Conversion Successful\n"
     ]
    }
   ],
   "source": [
    "# Convert .flac file to .wav file\n",
    "def convert_flac_to_wav(input_folder, output_folder):\n",
    "    # Create the output folder if it doesn't exist\n",
    "    if not os.path.exists(output_folder):\n",
    "        os.makedirs(output_folder)\n",
    "\n",
    "    # Get a list of all .flac files in the input folder\n",
    "    flac_files = [f for f in os.listdir(input_folder) if f.endswith('.flac')]\n",
    "\n",
    "    for flac_file in flac_files:\n",
    "        flac_path = os.path.join(input_folder, flac_file)\n",
    "        wav_file = os.path.splitext(flac_file)[0] + '.wav'\n",
    "        wav_path = os.path.join(output_folder, wav_file)\n",
    "\n",
    "        try:\n",
    "            # Read the .flac file and write it as a .wav file\n",
    "            data, samplerate = sf.read(flac_path)\n",
    "            sf.write(wav_path, data, samplerate)\n",
    "                        \n",
    "        except Exception as e:\n",
    "            print(f\"Error converting {flac_file}: {e}\")\n",
    "\n",
    "if __name__ == \"__main__\":\n",
    "    # Specify the input and output folders\n",
    "    input_folder = \"train-clean-100\"\n",
    "    output_folder = \"output\"\n",
    "\n",
    "    # Call the function to convert .flac to .wav\n",
    "    convert_flac_to_wav(input_folder, output_folder)\n",
    "    print('Conversion Successful')\n"
   ]
  },
  {
   "cell_type": "code",
   "execution_count": 5,
   "metadata": {},
   "outputs": [
    {
     "name": "stdout",
     "output_type": "stream",
     "text": [
      "Process Completed\n"
     ]
    }
   ],
   "source": [
    "## Export file path and ID in csv format\n",
    "\n",
    "def extract_info_to_csv(root_directory, csv_filename):\n",
    "    # Create or open the CSV file for writing\n",
    "    with open(csv_filename, 'w', newline='') as csvfile:\n",
    "        csv_writer = csv.writer(csvfile)\n",
    "        # Write header to the CSV file\n",
    "        csv_writer.writerow(['ID', 'Path'])\n",
    "\n",
    "        # Iterate through files in the root directory\n",
    "        for filename in os.listdir(root_directory):\n",
    "            file_path = os.path.join(root_directory, filename)\n",
    "            \n",
    "            # Check if it's a file and not a directory\n",
    "            if os.path.isfile(file_path):\n",
    "                # Split the filename by hyphen\n",
    "                parts = filename.split('-', 1)\n",
    "                \n",
    "                # Extract the prefix and write to CSV\n",
    "                if len(parts) == 2:\n",
    "                    prefix = parts[0]\n",
    "                    csv_writer.writerow([prefix, file_path])\n",
    "\n",
    "# Replace 'your/root/directory' with the actual path to your root directory\n",
    "root_directory = 'output'\n",
    "csv_filename = 'final.csv'  # Replace with the desired CSV file name\n",
    "\n",
    "extract_info_to_csv(root_directory, csv_filename)\n",
    "print('Process Completed')"
   ]
  },
  {
   "cell_type": "markdown",
   "metadata": {},
   "source": [
    "<a id='define'></a>"
   ]
  },
  {
   "cell_type": "markdown",
   "metadata": {},
   "source": [
    "## <b>4. Defining and Performing Feature Extraction From Audio </b>"
   ]
  },
  {
   "cell_type": "code",
   "execution_count": 6,
   "metadata": {},
   "outputs": [],
   "source": [
    "data_path = pd.read_csv('final.csv')"
   ]
  },
  {
   "cell_type": "code",
   "execution_count": 7,
   "metadata": {},
   "outputs": [
    {
     "data": {
      "text/html": [
       "<div>\n",
       "<style scoped>\n",
       "    .dataframe tbody tr th:only-of-type {\n",
       "        vertical-align: middle;\n",
       "    }\n",
       "\n",
       "    .dataframe tbody tr th {\n",
       "        vertical-align: top;\n",
       "    }\n",
       "\n",
       "    .dataframe thead th {\n",
       "        text-align: right;\n",
       "    }\n",
       "</style>\n",
       "<table border=\"1\" class=\"dataframe\">\n",
       "  <thead>\n",
       "    <tr style=\"text-align: right;\">\n",
       "      <th></th>\n",
       "      <th>ID</th>\n",
       "      <th>Path</th>\n",
       "    </tr>\n",
       "  </thead>\n",
       "  <tbody>\n",
       "    <tr>\n",
       "      <th>0</th>\n",
       "      <td>103</td>\n",
       "      <td>output\\103-1240-0000.wav</td>\n",
       "    </tr>\n",
       "    <tr>\n",
       "      <th>1</th>\n",
       "      <td>103</td>\n",
       "      <td>output\\103-1240-0001.wav</td>\n",
       "    </tr>\n",
       "    <tr>\n",
       "      <th>2</th>\n",
       "      <td>103</td>\n",
       "      <td>output\\103-1240-0002.wav</td>\n",
       "    </tr>\n",
       "    <tr>\n",
       "      <th>3</th>\n",
       "      <td>103</td>\n",
       "      <td>output\\103-1240-0003.wav</td>\n",
       "    </tr>\n",
       "    <tr>\n",
       "      <th>4</th>\n",
       "      <td>103</td>\n",
       "      <td>output\\103-1240-0004.wav</td>\n",
       "    </tr>\n",
       "  </tbody>\n",
       "</table>\n",
       "</div>"
      ],
      "text/plain": [
       "    ID                      Path\n",
       "0  103  output\\103-1240-0000.wav\n",
       "1  103  output\\103-1240-0001.wav\n",
       "2  103  output\\103-1240-0002.wav\n",
       "3  103  output\\103-1240-0003.wav\n",
       "4  103  output\\103-1240-0004.wav"
      ]
     },
     "execution_count": 7,
     "metadata": {},
     "output_type": "execute_result"
    }
   ],
   "source": [
    "data_path.head()"
   ]
  },
  {
   "cell_type": "code",
   "execution_count": 8,
   "metadata": {},
   "outputs": [],
   "source": [
    "def noise(data):\n",
    "    # Adds random noise to the input audio data\n",
    "    noise_amp = 0.035*np.random.uniform()*np.amax(data)\n",
    "    data = data + noise_amp*np.random.normal(size=data.shape[0])\n",
    "    return data\n",
    "\n",
    "def stretch(data, rate=0.8):\n",
    "    # Time-stretches the input audio data\n",
    "    return librosa.effects.time_stretch(data, rate=rate)\n",
    "\n",
    "def shift(data):\n",
    "    # Shifts the input audio data by a random amount\n",
    "    shift_range = int(np.random.uniform(low=-5, high = 5)*1000)\n",
    "    return np.roll(data, shift_range)\n",
    "\n",
    "def pitch(data, sampling_rate):\n",
    "    # Changes the pitch of the input audio data\n",
    "    return librosa.effects.pitch_shift(data, sr = sampling_rate,n_steps=0.7)\n",
    "\n",
    "# taking any example and checking for techniques.\n",
    "path = np.array(data_path.Path)[1]\n",
    "data, sample_rate = librosa.load(path)"
   ]
  },
  {
   "cell_type": "markdown",
   "metadata": {},
   "source": [
    "<a id='Features'></a>"
   ]
  },
  {
   "cell_type": "markdown",
   "metadata": {},
   "source": [
    "### <b>4.1 Description of Extracted Audio Features </b>\n",
    "\n",
    "\n",
    "The `extract_features` function is designed to extract various audio features from an input audio signal using the librosa library.\n",
    "\n",
    "##### 1. Zero Crossing Rate (ZCR)\n",
    "- **Description:** The rate at which the audio signal changes its sign, indicating the presence of rapid changes or transients.\n",
    "- **Calculation:** Computed as the mean of the zero-crossing rate over time.\n",
    "\n",
    "##### 2. Chroma Short-Time Fourier Transform (Chroma_stft)\n",
    "- **Description:** Describes the distribution of energy in the chromatic scale, providing information about the pitch content of the audio.\n",
    "- **Calculation:** Computed as the mean of the chroma features from the Short-Time Fourier Transform (STFT) of the audio signal.\n",
    "\n",
    "##### 3. Mel-Frequency Cepstral Coefficients (MFCC)\n",
    "- **Description:** Represents the spectral characteristics of the audio signal, commonly used in speech and audio analysis.\n",
    "- **Calculation:** Computed as the mean of the MFCCs over time.\n",
    "\n",
    "##### 4. Root Mean Square (RMS) Value\n",
    "- **Description:** Represents the energy of the audio signal by calculating the square root of the mean of the squared values.\n",
    "- **Calculation:** Computed as the mean of the RMS values over time.\n",
    "\n",
    "##### 5. Mel Spectrogram\n",
    "- **Description:** Represents the distribution of energy in the frequency domain, similar to the spectrogram but using a Mel scale.\n",
    "- **Calculation:** Computed as the mean of the Mel spectrogram values over time.\n",
    "\n",
    "\n",
    "These features provide valuable information about different aspects of the audio signal, such as pitch, energy, and spectral characteristics, which can be useful for various audio analysis tasks.\n"
   ]
  },
  {
   "cell_type": "code",
   "execution_count": 9,
   "metadata": {},
   "outputs": [],
   "source": [
    "def extract_features(data):\n",
    "    # ZCR\n",
    "    result = np.array([])\n",
    "    zcr = np.mean(librosa.feature.zero_crossing_rate(y=data).T, axis=0)\n",
    "    result=np.hstack((result, zcr)) # stacking horizontally\n",
    "\n",
    "    # Chroma_stft\n",
    "    stft = np.abs(librosa.stft(data))\n",
    "    chroma_stft = np.mean(librosa.feature.chroma_stft(S=stft, sr=sample_rate).T, axis=0)\n",
    "    result = np.hstack((result, chroma_stft)) # stacking horizontally\n",
    "\n",
    "    # MFCC\n",
    "    mfcc = np.mean(librosa.feature.mfcc(y=data, sr=sample_rate).T, axis=0)\n",
    "    result = np.hstack((result, mfcc)) # stacking horizontally\n",
    "\n",
    "    # Root Mean Square Value\n",
    "    rms = np.mean(librosa.feature.rms(y=data).T, axis=0)\n",
    "    result = np.hstack((result, rms)) # stacking horizontally\n",
    "\n",
    "    # MelSpectogram\n",
    "    mel = np.mean(librosa.feature.melspectrogram(y=data, sr=sample_rate).T, axis=0)\n",
    "    result = np.hstack((result, mel)) # stacking horizontally\n",
    "    \n",
    "    return result\n",
    "\n",
    "def get_features(path):\n",
    "    # duration and offset are used to take care of the no audio in start and the ending of each audio files as seen above.\n",
    "    try:\n",
    "        data, sample_rate = librosa.load(path, duration=20, offset=0.6)\n",
    "    except OSError as exc:\n",
    "        print(f\"Error loading audio file: {exc}\")\n",
    "\n",
    "    # without augmentation\n",
    "    res1 = extract_features(data)\n",
    "    result = np.array(res1)\n",
    "    \n",
    "    # data with noise\n",
    "    noise_data = noise(data)\n",
    "    res2 = extract_features(noise_data)\n",
    "    result = np.vstack((result, res2)) # stacking vertically\n",
    "    \n",
    "    # data with stretching and pitching\n",
    "    new_data = stretch(data)\n",
    "    data_stretch_pitch = pitch(new_data, sample_rate)\n",
    "    res3 = extract_features(data_stretch_pitch)\n",
    "    result = np.vstack((result, res3)) # stacking vertically\n",
    "    \n",
    "    return result"
   ]
  },
  {
   "cell_type": "code",
   "execution_count": 31,
   "metadata": {},
   "outputs": [],
   "source": [
    "X, Y = [], []\n",
    "for path, id in zip(data_path.Path, data_path.ID):\n",
    "    feature = get_features(path)\n",
    "    for ele in feature:\n",
    "        X.append(ele)\n",
    "        # appending emotion 3 times as we have made 3 augmentation techniques on each audio file.\n",
    "        Y.append(id)"
   ]
  },
  {
   "cell_type": "code",
   "execution_count": 32,
   "metadata": {},
   "outputs": [
    {
     "data": {
      "text/plain": [
       "(85617, 85617, (28539,))"
      ]
     },
     "execution_count": 32,
     "metadata": {},
     "output_type": "execute_result"
    }
   ],
   "source": [
    "len(X), len(Y), data_path.Path.shape"
   ]
  },
  {
   "cell_type": "code",
   "execution_count": 33,
   "metadata": {},
   "outputs": [
    {
     "data": {
      "text/html": [
       "<div>\n",
       "<style scoped>\n",
       "    .dataframe tbody tr th:only-of-type {\n",
       "        vertical-align: middle;\n",
       "    }\n",
       "\n",
       "    .dataframe tbody tr th {\n",
       "        vertical-align: top;\n",
       "    }\n",
       "\n",
       "    .dataframe thead th {\n",
       "        text-align: right;\n",
       "    }\n",
       "</style>\n",
       "<table border=\"1\" class=\"dataframe\">\n",
       "  <thead>\n",
       "    <tr style=\"text-align: right;\">\n",
       "      <th></th>\n",
       "      <th>0</th>\n",
       "      <th>1</th>\n",
       "      <th>2</th>\n",
       "      <th>3</th>\n",
       "      <th>4</th>\n",
       "      <th>5</th>\n",
       "      <th>6</th>\n",
       "      <th>7</th>\n",
       "      <th>8</th>\n",
       "      <th>9</th>\n",
       "      <th>...</th>\n",
       "      <th>153</th>\n",
       "      <th>154</th>\n",
       "      <th>155</th>\n",
       "      <th>156</th>\n",
       "      <th>157</th>\n",
       "      <th>158</th>\n",
       "      <th>159</th>\n",
       "      <th>160</th>\n",
       "      <th>161</th>\n",
       "      <th>labels</th>\n",
       "    </tr>\n",
       "  </thead>\n",
       "  <tbody>\n",
       "    <tr>\n",
       "      <th>0</th>\n",
       "      <td>0.091818</td>\n",
       "      <td>0.633005</td>\n",
       "      <td>0.595398</td>\n",
       "      <td>0.560430</td>\n",
       "      <td>0.560673</td>\n",
       "      <td>0.515053</td>\n",
       "      <td>0.531644</td>\n",
       "      <td>0.531093</td>\n",
       "      <td>0.568428</td>\n",
       "      <td>0.676183</td>\n",
       "      <td>...</td>\n",
       "      <td>6.801177e-08</td>\n",
       "      <td>6.299121e-08</td>\n",
       "      <td>5.942807e-08</td>\n",
       "      <td>5.677370e-08</td>\n",
       "      <td>5.479472e-08</td>\n",
       "      <td>5.337055e-08</td>\n",
       "      <td>5.233434e-08</td>\n",
       "      <td>5.166278e-08</td>\n",
       "      <td>5.124758e-08</td>\n",
       "      <td>103</td>\n",
       "    </tr>\n",
       "    <tr>\n",
       "      <th>1</th>\n",
       "      <td>0.295686</td>\n",
       "      <td>0.729964</td>\n",
       "      <td>0.721353</td>\n",
       "      <td>0.720143</td>\n",
       "      <td>0.726058</td>\n",
       "      <td>0.717354</td>\n",
       "      <td>0.681220</td>\n",
       "      <td>0.617422</td>\n",
       "      <td>0.657781</td>\n",
       "      <td>0.734352</td>\n",
       "      <td>...</td>\n",
       "      <td>5.072138e-03</td>\n",
       "      <td>5.195327e-03</td>\n",
       "      <td>5.211787e-03</td>\n",
       "      <td>5.231399e-03</td>\n",
       "      <td>5.087765e-03</td>\n",
       "      <td>5.106980e-03</td>\n",
       "      <td>5.218174e-03</td>\n",
       "      <td>5.216873e-03</td>\n",
       "      <td>5.212580e-03</td>\n",
       "      <td>103</td>\n",
       "    </tr>\n",
       "    <tr>\n",
       "      <th>2</th>\n",
       "      <td>0.129206</td>\n",
       "      <td>0.621794</td>\n",
       "      <td>0.585696</td>\n",
       "      <td>0.553395</td>\n",
       "      <td>0.541997</td>\n",
       "      <td>0.493629</td>\n",
       "      <td>0.508410</td>\n",
       "      <td>0.507531</td>\n",
       "      <td>0.572027</td>\n",
       "      <td>0.686700</td>\n",
       "      <td>...</td>\n",
       "      <td>5.572628e-08</td>\n",
       "      <td>4.889484e-08</td>\n",
       "      <td>4.424225e-08</td>\n",
       "      <td>4.100826e-08</td>\n",
       "      <td>3.852636e-08</td>\n",
       "      <td>3.686300e-08</td>\n",
       "      <td>3.586245e-08</td>\n",
       "      <td>2.870522e-08</td>\n",
       "      <td>1.125214e-08</td>\n",
       "      <td>103</td>\n",
       "    </tr>\n",
       "    <tr>\n",
       "      <th>3</th>\n",
       "      <td>0.105365</td>\n",
       "      <td>0.680520</td>\n",
       "      <td>0.586450</td>\n",
       "      <td>0.572095</td>\n",
       "      <td>0.555847</td>\n",
       "      <td>0.575411</td>\n",
       "      <td>0.593454</td>\n",
       "      <td>0.585180</td>\n",
       "      <td>0.636205</td>\n",
       "      <td>0.674506</td>\n",
       "      <td>...</td>\n",
       "      <td>2.339740e-09</td>\n",
       "      <td>2.170901e-09</td>\n",
       "      <td>2.050387e-09</td>\n",
       "      <td>1.960169e-09</td>\n",
       "      <td>1.892689e-09</td>\n",
       "      <td>1.844017e-09</td>\n",
       "      <td>1.808541e-09</td>\n",
       "      <td>1.785531e-09</td>\n",
       "      <td>1.771250e-09</td>\n",
       "      <td>103</td>\n",
       "    </tr>\n",
       "    <tr>\n",
       "      <th>4</th>\n",
       "      <td>0.268785</td>\n",
       "      <td>0.767049</td>\n",
       "      <td>0.716642</td>\n",
       "      <td>0.710486</td>\n",
       "      <td>0.715254</td>\n",
       "      <td>0.712134</td>\n",
       "      <td>0.665359</td>\n",
       "      <td>0.642496</td>\n",
       "      <td>0.674546</td>\n",
       "      <td>0.716391</td>\n",
       "      <td>...</td>\n",
       "      <td>3.441353e-03</td>\n",
       "      <td>3.372180e-03</td>\n",
       "      <td>3.447648e-03</td>\n",
       "      <td>3.410452e-03</td>\n",
       "      <td>3.405378e-03</td>\n",
       "      <td>3.416453e-03</td>\n",
       "      <td>3.440375e-03</td>\n",
       "      <td>3.487267e-03</td>\n",
       "      <td>3.452619e-03</td>\n",
       "      <td>103</td>\n",
       "    </tr>\n",
       "  </tbody>\n",
       "</table>\n",
       "<p>5 rows × 163 columns</p>\n",
       "</div>"
      ],
      "text/plain": [
       "          0         1         2         3         4         5         6  \\\n",
       "0  0.091818  0.633005  0.595398  0.560430  0.560673  0.515053  0.531644   \n",
       "1  0.295686  0.729964  0.721353  0.720143  0.726058  0.717354  0.681220   \n",
       "2  0.129206  0.621794  0.585696  0.553395  0.541997  0.493629  0.508410   \n",
       "3  0.105365  0.680520  0.586450  0.572095  0.555847  0.575411  0.593454   \n",
       "4  0.268785  0.767049  0.716642  0.710486  0.715254  0.712134  0.665359   \n",
       "\n",
       "          7         8         9  ...           153           154  \\\n",
       "0  0.531093  0.568428  0.676183  ...  6.801177e-08  6.299121e-08   \n",
       "1  0.617422  0.657781  0.734352  ...  5.072138e-03  5.195327e-03   \n",
       "2  0.507531  0.572027  0.686700  ...  5.572628e-08  4.889484e-08   \n",
       "3  0.585180  0.636205  0.674506  ...  2.339740e-09  2.170901e-09   \n",
       "4  0.642496  0.674546  0.716391  ...  3.441353e-03  3.372180e-03   \n",
       "\n",
       "            155           156           157           158           159  \\\n",
       "0  5.942807e-08  5.677370e-08  5.479472e-08  5.337055e-08  5.233434e-08   \n",
       "1  5.211787e-03  5.231399e-03  5.087765e-03  5.106980e-03  5.218174e-03   \n",
       "2  4.424225e-08  4.100826e-08  3.852636e-08  3.686300e-08  3.586245e-08   \n",
       "3  2.050387e-09  1.960169e-09  1.892689e-09  1.844017e-09  1.808541e-09   \n",
       "4  3.447648e-03  3.410452e-03  3.405378e-03  3.416453e-03  3.440375e-03   \n",
       "\n",
       "            160           161  labels  \n",
       "0  5.166278e-08  5.124758e-08     103  \n",
       "1  5.216873e-03  5.212580e-03     103  \n",
       "2  2.870522e-08  1.125214e-08     103  \n",
       "3  1.785531e-09  1.771250e-09     103  \n",
       "4  3.487267e-03  3.452619e-03     103  \n",
       "\n",
       "[5 rows x 163 columns]"
      ]
     },
     "execution_count": 33,
     "metadata": {},
     "output_type": "execute_result"
    }
   ],
   "source": [
    "Features = pd.DataFrame(X)\n",
    "Features['labels'] = Y\n",
    "Features.to_csv('features.csv', index=False)\n",
    "Features.head()"
   ]
  },
  {
   "cell_type": "code",
   "execution_count": 10,
   "metadata": {},
   "outputs": [],
   "source": [
    "Features = pd.read_csv('features.csv')"
   ]
  },
  {
   "cell_type": "code",
   "execution_count": 11,
   "metadata": {},
   "outputs": [],
   "source": [
    "X = Features.iloc[: ,:-1].values\n",
    "Y = Features['labels'].values"
   ]
  },
  {
   "cell_type": "markdown",
   "metadata": {},
   "source": [
    "<a id='encoding'></a>"
   ]
  },
  {
   "cell_type": "markdown",
   "metadata": {},
   "source": [
    "## <b>5. Performing Encoding, Splitting Data, Feature Scaling and Adjust Dimensions </b>\n",
    "<a id='encoding'></a>"
   ]
  },
  {
   "cell_type": "code",
   "execution_count": 12,
   "metadata": {},
   "outputs": [],
   "source": [
    "# As this is a multiclass classification problem onehotencoding our Y.\n",
    "encoder = OneHotEncoder()\n",
    "Y = encoder.fit_transform(np.array(Y).reshape(-1,1)).toarray()"
   ]
  },
  {
   "cell_type": "code",
   "execution_count": 13,
   "metadata": {},
   "outputs": [
    {
     "data": {
      "text/plain": [
       "((64212, 162), (64212, 251), (21405, 162), (21405, 251))"
      ]
     },
     "execution_count": 13,
     "metadata": {},
     "output_type": "execute_result"
    }
   ],
   "source": [
    "# splitting data\n",
    "x_train, x_test, y_train, y_test = train_test_split(X, Y, random_state=0, shuffle=True)\n",
    "x_train.shape, y_train.shape, x_test.shape, y_test.shape"
   ]
  },
  {
   "cell_type": "code",
   "execution_count": 14,
   "metadata": {},
   "outputs": [
    {
     "data": {
      "text/plain": [
       "((64212, 162), (64212, 251), (21405, 162), (21405, 251))"
      ]
     },
     "execution_count": 14,
     "metadata": {},
     "output_type": "execute_result"
    }
   ],
   "source": [
    "# scaling our data with sklearn's Standard scaler\n",
    "scaler = StandardScaler()\n",
    "x_train = scaler.fit_transform(x_train)\n",
    "x_test = scaler.transform(x_test)\n",
    "x_train.shape, y_train.shape, x_test.shape, y_test.shape"
   ]
  },
  {
   "cell_type": "code",
   "execution_count": 15,
   "metadata": {},
   "outputs": [
    {
     "data": {
      "text/plain": [
       "((64212, 162, 1), (64212, 251), (21405, 162, 1), (21405, 251))"
      ]
     },
     "execution_count": 15,
     "metadata": {},
     "output_type": "execute_result"
    }
   ],
   "source": [
    "# making our data compatible to model.\n",
    "x_train = np.expand_dims(x_train, axis=2)\n",
    "x_test = np.expand_dims(x_test, axis=2)\n",
    "x_train.shape, y_train.shape, x_test.shape, y_test.shape"
   ]
  },
  {
   "cell_type": "code",
   "execution_count": 16,
   "metadata": {},
   "outputs": [
    {
     "data": {
      "text/plain": [
       "((64212, 162, 1, 1), (64212, 251), (21405, 162, 1, 1), (21405, 251))"
      ]
     },
     "execution_count": 16,
     "metadata": {},
     "output_type": "execute_result"
    }
   ],
   "source": [
    "# making our data compatible to model.\n",
    "x_train = np.expand_dims(x_train, axis=2)\n",
    "x_test = np.expand_dims(x_test, axis=2)\n",
    "x_train.shape, y_train.shape, x_test.shape, y_test.shape"
   ]
  },
  {
   "cell_type": "markdown",
   "metadata": {},
   "source": [
    "<a id='model'></a>"
   ]
  },
  {
   "cell_type": "markdown",
   "metadata": {},
   "source": [
    "## <b>6. Sequential Model Structuring and Training </b>\n",
    "<a id='model'></a>"
   ]
  },
  {
   "cell_type": "code",
   "execution_count": 17,
   "metadata": {},
   "outputs": [
    {
     "name": "stdout",
     "output_type": "stream",
     "text": [
      "WARNING:tensorflow:From c:\\Users\\patel\\miniconda3\\envs\\myenv\\lib\\site-packages\\keras\\src\\backend.py:873: The name tf.get_default_graph is deprecated. Please use tf.compat.v1.get_default_graph instead.\n",
      "\n",
      "WARNING:tensorflow:From c:\\Users\\patel\\miniconda3\\envs\\myenv\\lib\\site-packages\\keras\\src\\backend.py:6642: The name tf.nn.max_pool is deprecated. Please use tf.nn.max_pool2d instead.\n",
      "\n",
      "WARNING:tensorflow:From c:\\Users\\patel\\miniconda3\\envs\\myenv\\lib\\site-packages\\keras\\src\\optimizers\\__init__.py:309: The name tf.train.Optimizer is deprecated. Please use tf.compat.v1.train.Optimizer instead.\n",
      "\n",
      "Model: \"sequential\"\n",
      "_________________________________________________________________\n",
      " Layer (type)                Output Shape              Param #   \n",
      "=================================================================\n",
      " conv1d (Conv1D)             (None, 162, 256)          1536      \n",
      "                                                                 \n",
      " max_pooling1d (MaxPooling1  (None, 81, 256)           0         \n",
      " D)                                                              \n",
      "                                                                 \n",
      " conv1d_1 (Conv1D)           (None, 81, 256)           327936    \n",
      "                                                                 \n",
      " max_pooling1d_1 (MaxPoolin  (None, 41, 256)           0         \n",
      " g1D)                                                            \n",
      "                                                                 \n",
      " conv1d_2 (Conv1D)           (None, 41, 128)           163968    \n",
      "                                                                 \n",
      " max_pooling1d_2 (MaxPoolin  (None, 21, 128)           0         \n",
      " g1D)                                                            \n",
      "                                                                 \n",
      " dropout (Dropout)           (None, 21, 128)           0         \n",
      "                                                                 \n",
      " conv1d_3 (Conv1D)           (None, 21, 64)            41024     \n",
      "                                                                 \n",
      " max_pooling1d_3 (MaxPoolin  (None, 11, 64)            0         \n",
      " g1D)                                                            \n",
      "                                                                 \n",
      " flatten (Flatten)           (None, 704)               0         \n",
      "                                                                 \n",
      " dense (Dense)               (None, 32)                22560     \n",
      "                                                                 \n",
      " dropout_1 (Dropout)         (None, 32)                0         \n",
      "                                                                 \n",
      " dense_1 (Dense)             (None, 251)               8283      \n",
      "                                                                 \n",
      "=================================================================\n",
      "Total params: 565307 (2.16 MB)\n",
      "Trainable params: 565307 (2.16 MB)\n",
      "Non-trainable params: 0 (0.00 Byte)\n",
      "_________________________________________________________________\n"
     ]
    }
   ],
   "source": [
    "model=Sequential()\n",
    "model.add(Conv1D(256, kernel_size=5, strides=1, padding='same', activation='relu', input_shape=(x_train.shape[1], 1)))\n",
    "model.add(MaxPooling1D(pool_size=5, strides = 2, padding = 'same'))\n",
    "\n",
    "model.add(Conv1D(256, kernel_size=5, strides=1, padding='same', activation='relu'))\n",
    "model.add(MaxPooling1D(pool_size=5, strides = 2, padding = 'same'))\n",
    "\n",
    "model.add(Conv1D(128, kernel_size=5, strides=1, padding='same', activation='relu'))\n",
    "model.add(MaxPooling1D(pool_size=5, strides = 2, padding = 'same'))\n",
    "model.add(Dropout(0.2))\n",
    "\n",
    "model.add(Conv1D(64, kernel_size=5, strides=1, padding='same', activation='relu'))\n",
    "model.add(MaxPooling1D(pool_size=5, strides = 2, padding = 'same'))\n",
    "\n",
    "model.add(Flatten())\n",
    "model.add(Dense(units=32, activation='relu'))\n",
    "model.add(Dropout(0.3))\n",
    "\n",
    "model.add(Dense(units=251, activation='softmax'))\n",
    "model.compile(optimizer = 'adam' , loss = 'categorical_crossentropy' , metrics = ['accuracy'])\n",
    "\n",
    "model.summary()"
   ]
  },
  {
   "cell_type": "code",
   "execution_count": 44,
   "metadata": {},
   "outputs": [
    {
     "name": "stdout",
     "output_type": "stream",
     "text": [
      "Epoch 1/50\n",
      "WARNING:tensorflow:From c:\\Users\\patel\\miniconda3\\envs\\myenv\\lib\\site-packages\\keras\\src\\utils\\tf_utils.py:492: The name tf.ragged.RaggedTensorValue is deprecated. Please use tf.compat.v1.ragged.RaggedTensorValue instead.\n",
      "\n",
      "WARNING:tensorflow:From c:\\Users\\patel\\miniconda3\\envs\\myenv\\lib\\site-packages\\keras\\src\\engine\\base_layer_utils.py:384: The name tf.executing_eagerly_outside_functions is deprecated. Please use tf.compat.v1.executing_eagerly_outside_functions instead.\n",
      "\n",
      "1004/1004 [==============================] - 63s 61ms/step - loss: 4.2389 - accuracy: 0.0861 - val_loss: 2.7176 - val_accuracy: 0.3421 - lr: 0.0010\n",
      "Epoch 2/50\n",
      "1004/1004 [==============================] - 42s 41ms/step - loss: 3.0882 - accuracy: 0.2157 - val_loss: 2.0583 - val_accuracy: 0.5155 - lr: 0.0010\n",
      "Epoch 3/50\n",
      "1004/1004 [==============================] - 69s 69ms/step - loss: 2.8002 - accuracy: 0.2724 - val_loss: 1.8525 - val_accuracy: 0.5503 - lr: 0.0010\n",
      "Epoch 4/50\n",
      "1004/1004 [==============================] - 106s 105ms/step - loss: 2.6405 - accuracy: 0.2995 - val_loss: 1.5835 - val_accuracy: 0.6195 - lr: 0.0010\n",
      "Epoch 5/50\n",
      "1004/1004 [==============================] - 68s 67ms/step - loss: 2.4909 - accuracy: 0.3310 - val_loss: 1.3838 - val_accuracy: 0.6569 - lr: 0.0010\n",
      "Epoch 6/50\n",
      "1004/1004 [==============================] - 89s 88ms/step - loss: 2.2980 - accuracy: 0.3721 - val_loss: 1.2177 - val_accuracy: 0.7224 - lr: 0.0010\n",
      "Epoch 7/50\n",
      "1004/1004 [==============================] - 41s 41ms/step - loss: 2.1408 - accuracy: 0.4067 - val_loss: 1.0496 - val_accuracy: 0.7453 - lr: 0.0010\n",
      "Epoch 8/50\n",
      "1004/1004 [==============================] - 42s 42ms/step - loss: 2.0125 - accuracy: 0.4350 - val_loss: 0.9407 - val_accuracy: 0.7776 - lr: 0.0010\n",
      "Epoch 9/50\n",
      "1004/1004 [==============================] - 41s 41ms/step - loss: 1.9208 - accuracy: 0.4617 - val_loss: 0.9010 - val_accuracy: 0.7960 - lr: 0.0010\n",
      "Epoch 10/50\n",
      "1004/1004 [==============================] - 42s 42ms/step - loss: 1.8274 - accuracy: 0.4841 - val_loss: 0.8634 - val_accuracy: 0.8007 - lr: 0.0010\n",
      "Epoch 11/50\n",
      "1004/1004 [==============================] - 42s 42ms/step - loss: 1.7496 - accuracy: 0.5036 - val_loss: 0.7605 - val_accuracy: 0.8151 - lr: 0.0010\n",
      "Epoch 12/50\n",
      "1004/1004 [==============================] - 70s 69ms/step - loss: 1.6756 - accuracy: 0.5204 - val_loss: 0.7339 - val_accuracy: 0.8208 - lr: 0.0010\n",
      "Epoch 13/50\n",
      "1004/1004 [==============================] - 108s 108ms/step - loss: 1.6459 - accuracy: 0.5289 - val_loss: 0.6511 - val_accuracy: 0.8409 - lr: 0.0010\n",
      "Epoch 14/50\n",
      "1004/1004 [==============================] - 84s 84ms/step - loss: 1.5922 - accuracy: 0.5419 - val_loss: 0.6408 - val_accuracy: 0.8493 - lr: 0.0010\n",
      "Epoch 15/50\n",
      "1004/1004 [==============================] - 110s 109ms/step - loss: 1.5565 - accuracy: 0.5495 - val_loss: 0.6316 - val_accuracy: 0.8500 - lr: 0.0010\n",
      "Epoch 16/50\n",
      "1004/1004 [==============================] - 50s 50ms/step - loss: 1.5250 - accuracy: 0.5577 - val_loss: 0.6373 - val_accuracy: 0.8449 - lr: 0.0010\n",
      "Epoch 17/50\n",
      "1004/1004 [==============================] - 61s 61ms/step - loss: 1.4942 - accuracy: 0.5677 - val_loss: 0.5908 - val_accuracy: 0.8627 - lr: 0.0010\n",
      "Epoch 18/50\n",
      "1004/1004 [==============================] - 54s 54ms/step - loss: 1.4677 - accuracy: 0.5740 - val_loss: 0.5567 - val_accuracy: 0.8655 - lr: 0.0010\n",
      "Epoch 19/50\n",
      "1004/1004 [==============================] - 44s 44ms/step - loss: 1.4503 - accuracy: 0.5805 - val_loss: 0.5694 - val_accuracy: 0.8606 - lr: 0.0010\n",
      "Epoch 20/50\n",
      "1004/1004 [==============================] - 43s 43ms/step - loss: 1.4289 - accuracy: 0.5841 - val_loss: 0.5414 - val_accuracy: 0.8746 - lr: 0.0010\n",
      "Epoch 21/50\n",
      "1004/1004 [==============================] - 43s 43ms/step - loss: 1.3841 - accuracy: 0.5973 - val_loss: 0.5410 - val_accuracy: 0.8712 - lr: 0.0010\n",
      "Epoch 22/50\n",
      "1004/1004 [==============================] - 43s 43ms/step - loss: 1.3422 - accuracy: 0.6066 - val_loss: 0.5088 - val_accuracy: 0.8779 - lr: 0.0010\n",
      "Epoch 23/50\n",
      "1004/1004 [==============================] - 46s 46ms/step - loss: 1.2769 - accuracy: 0.6252 - val_loss: 0.4766 - val_accuracy: 0.8816 - lr: 0.0010\n",
      "Epoch 24/50\n",
      "1004/1004 [==============================] - 44s 44ms/step - loss: 1.2483 - accuracy: 0.6330 - val_loss: 0.4802 - val_accuracy: 0.8813 - lr: 0.0010\n",
      "Epoch 25/50\n",
      "1004/1004 [==============================] - 44s 44ms/step - loss: 1.1780 - accuracy: 0.6530 - val_loss: 0.4442 - val_accuracy: 0.8881 - lr: 0.0010\n",
      "Epoch 26/50\n",
      "1004/1004 [==============================] - 44s 44ms/step - loss: 1.1396 - accuracy: 0.6626 - val_loss: 0.4293 - val_accuracy: 0.8921 - lr: 0.0010\n",
      "Epoch 27/50\n",
      "1004/1004 [==============================] - 46s 46ms/step - loss: 1.1213 - accuracy: 0.6679 - val_loss: 0.4180 - val_accuracy: 0.8979 - lr: 0.0010\n",
      "Epoch 28/50\n",
      "1004/1004 [==============================] - 50s 49ms/step - loss: 1.1100 - accuracy: 0.6699 - val_loss: 0.4163 - val_accuracy: 0.8947 - lr: 0.0010\n",
      "Epoch 29/50\n",
      "1004/1004 [==============================] - 50s 50ms/step - loss: 1.0870 - accuracy: 0.6794 - val_loss: 0.4146 - val_accuracy: 0.8941 - lr: 0.0010\n",
      "Epoch 30/50\n",
      "1004/1004 [==============================] - 45s 45ms/step - loss: 1.0710 - accuracy: 0.6836 - val_loss: 0.3869 - val_accuracy: 0.9022 - lr: 0.0010\n",
      "Epoch 31/50\n",
      "1004/1004 [==============================] - 47s 47ms/step - loss: 1.0615 - accuracy: 0.6865 - val_loss: 0.4043 - val_accuracy: 0.9005 - lr: 0.0010\n",
      "Epoch 32/50\n",
      "1004/1004 [==============================] - 67s 67ms/step - loss: 1.0324 - accuracy: 0.6908 - val_loss: 0.3901 - val_accuracy: 0.9025 - lr: 0.0010\n",
      "Epoch 33/50\n",
      "1004/1004 [==============================] - 108s 108ms/step - loss: 1.0054 - accuracy: 0.6999 - val_loss: 0.3851 - val_accuracy: 0.9030 - lr: 0.0010\n",
      "Epoch 34/50\n",
      "1004/1004 [==============================] - 95s 94ms/step - loss: 0.9837 - accuracy: 0.7086 - val_loss: 0.3673 - val_accuracy: 0.9096 - lr: 0.0010\n",
      "Epoch 35/50\n",
      "1004/1004 [==============================] - 103s 103ms/step - loss: 0.9744 - accuracy: 0.7115 - val_loss: 0.3593 - val_accuracy: 0.9105 - lr: 0.0010\n",
      "Epoch 36/50\n",
      "1004/1004 [==============================] - 103s 103ms/step - loss: 0.9623 - accuracy: 0.7145 - val_loss: 0.3659 - val_accuracy: 0.9095 - lr: 0.0010\n",
      "Epoch 37/50\n",
      "1004/1004 [==============================] - 103s 103ms/step - loss: 0.9503 - accuracy: 0.7192 - val_loss: 0.3539 - val_accuracy: 0.9130 - lr: 0.0010\n",
      "Epoch 38/50\n",
      "1004/1004 [==============================] - 102s 101ms/step - loss: 0.9367 - accuracy: 0.7210 - val_loss: 0.3485 - val_accuracy: 0.9123 - lr: 0.0010\n",
      "Epoch 39/50\n",
      "1004/1004 [==============================] - 62s 61ms/step - loss: 0.9135 - accuracy: 0.7280 - val_loss: 0.3641 - val_accuracy: 0.9077 - lr: 0.0010\n",
      "Epoch 40/50\n",
      "1004/1004 [==============================] - 74s 74ms/step - loss: 0.9215 - accuracy: 0.7277 - val_loss: 0.3555 - val_accuracy: 0.9097 - lr: 0.0010\n",
      "Epoch 41/50\n",
      "1004/1004 [==============================] - 48s 48ms/step - loss: 0.9061 - accuracy: 0.7296 - val_loss: 0.3267 - val_accuracy: 0.9173 - lr: 0.0010\n",
      "Epoch 42/50\n",
      "1004/1004 [==============================] - 42s 41ms/step - loss: 0.8919 - accuracy: 0.7337 - val_loss: 0.3215 - val_accuracy: 0.9188 - lr: 0.0010\n",
      "Epoch 43/50\n",
      "1004/1004 [==============================] - 41s 41ms/step - loss: 0.8827 - accuracy: 0.7370 - val_loss: 0.3153 - val_accuracy: 0.9209 - lr: 0.0010\n",
      "Epoch 44/50\n",
      "1004/1004 [==============================] - 41s 41ms/step - loss: 0.8827 - accuracy: 0.7340 - val_loss: 0.3142 - val_accuracy: 0.9216 - lr: 0.0010\n",
      "Epoch 45/50\n",
      "1004/1004 [==============================] - 66s 66ms/step - loss: 0.8811 - accuracy: 0.7378 - val_loss: 0.3114 - val_accuracy: 0.9205 - lr: 0.0010\n",
      "Epoch 46/50\n",
      "1004/1004 [==============================] - 88s 88ms/step - loss: 0.8681 - accuracy: 0.7419 - val_loss: 0.3205 - val_accuracy: 0.9209 - lr: 0.0010\n",
      "Epoch 47/50\n",
      "1004/1004 [==============================] - 110s 110ms/step - loss: 0.8618 - accuracy: 0.7423 - val_loss: 0.3427 - val_accuracy: 0.9136 - lr: 0.0010\n",
      "Epoch 48/50\n",
      "1004/1004 [==============================] - 105s 105ms/step - loss: 0.8609 - accuracy: 0.7422 - val_loss: 0.3377 - val_accuracy: 0.9151 - lr: 0.0010\n",
      "Epoch 49/50\n",
      "1004/1004 [==============================] - 90s 90ms/step - loss: 0.8563 - accuracy: 0.7434 - val_loss: 0.3144 - val_accuracy: 0.9212 - lr: 0.0010\n",
      "Epoch 50/50\n",
      "1004/1004 [==============================] - 37s 37ms/step - loss: 0.8425 - accuracy: 0.7478 - val_loss: 0.3254 - val_accuracy: 0.9171 - lr: 0.0010\n"
     ]
    }
   ],
   "source": [
    "rlrp = ReduceLROnPlateau(monitor='loss', factor=0.4, verbose=0, patience=2, min_lr=0.0000001)   \n",
    "history=model.fit(x_train, y_train, batch_size=64, epochs=50, validation_data=(x_test, y_test), callbacks=[rlrp])"
   ]
  },
  {
   "cell_type": "markdown",
   "metadata": {},
   "source": [
    "<a id='evaluate'></a>"
   ]
  },
  {
   "cell_type": "markdown",
   "metadata": {},
   "source": [
    "### <b>6.1  Evaluating Model and Observing Performance </b>\n"
   ]
  },
  {
   "cell_type": "code",
   "execution_count": 45,
   "metadata": {},
   "outputs": [
    {
     "name": "stdout",
     "output_type": "stream",
     "text": [
      "669/669 [==============================] - 5s 8ms/step - loss: 0.3254 - accuracy: 0.9171\n",
      "Accuracy of our model on test data :  91.70754551887512 %\n"
     ]
    },
    {
     "data": {
      "image/png": "[encoded data removed]",
      "text/plain": [
       "<Figure size 2000x600 with 2 Axes>"
      ]
     },
     "metadata": {},
     "output_type": "display_data"
    }
   ],
   "source": [
    "print(\"Accuracy of our model on test data : \" , model.evaluate(x_test,y_test)[1]*100 , \"%\")\n",
    "\n",
    "epochs = [i for i in range(50)]\n",
    "fig , ax = plt.subplots(1,2)\n",
    "train_acc = history.history['accuracy']\n",
    "train_loss = history.history['loss']\n",
    "test_acc = history.history['val_accuracy']\n",
    "test_loss = history.history['val_loss']\n",
    "\n",
    "fig.set_size_inches(20,6)\n",
    "ax[0].plot(epochs , train_loss , label = 'Training Loss')\n",
    "ax[0].plot(epochs , test_loss , label = 'Testing Loss')\n",
    "ax[0].set_title('Training & Testing Loss')\n",
    "ax[0].legend()\n",
    "ax[0].set_xlabel(\"Epochs\")\n",
    "\n",
    "ax[1].plot(epochs , train_acc , label = 'Training Accuracy')\n",
    "ax[1].plot(epochs , test_acc , label = 'Testing Accuracy')\n",
    "ax[1].set_title('Training & Testing Accuracy')\n",
    "ax[1].legend()\n",
    "ax[1].set_xlabel(\"Epochs\")\n",
    "plt.show()"
   ]
  },
  {
   "cell_type": "code",
   "execution_count": 46,
   "metadata": {},
   "outputs": [
    {
     "name": "stdout",
     "output_type": "stream",
     "text": [
      "669/669 [==============================] - 5s 8ms/step\n"
     ]
    }
   ],
   "source": [
    "# predicting on test data.\n",
    "pred_test = model.predict(x_test)\n",
    "y_pred = encoder.inverse_transform(pred_test)\n",
    "\n",
    "y_test = encoder.inverse_transform(y_test)"
   ]
  },
  {
   "cell_type": "code",
   "execution_count": 47,
   "metadata": {},
   "outputs": [
    {
     "data": {
      "text/html": [
       "<div>\n",
       "<style scoped>\n",
       "    .dataframe tbody tr th:only-of-type {\n",
       "        vertical-align: middle;\n",
       "    }\n",
       "\n",
       "    .dataframe tbody tr th {\n",
       "        vertical-align: top;\n",
       "    }\n",
       "\n",
       "    .dataframe thead th {\n",
       "        text-align: right;\n",
       "    }\n",
       "</style>\n",
       "<table border=\"1\" class=\"dataframe\">\n",
       "  <thead>\n",
       "    <tr style=\"text-align: right;\">\n",
       "      <th></th>\n",
       "      <th>Predicted Labels</th>\n",
       "      <th>Actual Labels</th>\n",
       "    </tr>\n",
       "  </thead>\n",
       "  <tbody>\n",
       "    <tr>\n",
       "      <th>0</th>\n",
       "      <td>6000</td>\n",
       "      <td>6000</td>\n",
       "    </tr>\n",
       "    <tr>\n",
       "      <th>1</th>\n",
       "      <td>3879</td>\n",
       "      <td>3879</td>\n",
       "    </tr>\n",
       "    <tr>\n",
       "      <th>2</th>\n",
       "      <td>7059</td>\n",
       "      <td>7059</td>\n",
       "    </tr>\n",
       "    <tr>\n",
       "      <th>3</th>\n",
       "      <td>1898</td>\n",
       "      <td>1898</td>\n",
       "    </tr>\n",
       "    <tr>\n",
       "      <th>4</th>\n",
       "      <td>2911</td>\n",
       "      <td>2911</td>\n",
       "    </tr>\n",
       "    <tr>\n",
       "      <th>5</th>\n",
       "      <td>7113</td>\n",
       "      <td>7113</td>\n",
       "    </tr>\n",
       "    <tr>\n",
       "      <th>6</th>\n",
       "      <td>200</td>\n",
       "      <td>200</td>\n",
       "    </tr>\n",
       "    <tr>\n",
       "      <th>7</th>\n",
       "      <td>6064</td>\n",
       "      <td>6064</td>\n",
       "    </tr>\n",
       "    <tr>\n",
       "      <th>8</th>\n",
       "      <td>5778</td>\n",
       "      <td>5778</td>\n",
       "    </tr>\n",
       "    <tr>\n",
       "      <th>9</th>\n",
       "      <td>1841</td>\n",
       "      <td>1841</td>\n",
       "    </tr>\n",
       "  </tbody>\n",
       "</table>\n",
       "</div>"
      ],
      "text/plain": [
       "   Predicted Labels  Actual Labels\n",
       "0              6000           6000\n",
       "1              3879           3879\n",
       "2              7059           7059\n",
       "3              1898           1898\n",
       "4              2911           2911\n",
       "5              7113           7113\n",
       "6               200            200\n",
       "7              6064           6064\n",
       "8              5778           5778\n",
       "9              1841           1841"
      ]
     },
     "execution_count": 47,
     "metadata": {},
     "output_type": "execute_result"
    }
   ],
   "source": [
    "df = pd.DataFrame(columns=['Predicted Labels', 'Actual Labels'])\n",
    "df['Predicted Labels'] = y_pred.flatten()\n",
    "df['Actual Labels'] = y_test.flatten()\n",
    "\n",
    "df.head(10)"
   ]
  },
  {
   "cell_type": "code",
   "execution_count": 48,
   "metadata": {},
   "outputs": [
    {
     "name": "stdout",
     "output_type": "stream",
     "text": [
      "              precision    recall  f1-score   support\n",
      "\n",
      "          19       1.00      0.98      0.99        93\n",
      "          26       0.91      0.92      0.91        85\n",
      "          27       0.89      0.96      0.92        99\n",
      "          32       0.86      0.94      0.90        84\n",
      "          39       0.92      0.92      0.92       119\n",
      "          40       0.99      0.99      0.99        77\n",
      "          60       0.98      0.96      0.97        83\n",
      "          78       0.92      0.88      0.90        90\n",
      "          83       0.89      0.99      0.94        96\n",
      "          87       1.00      0.98      0.99        81\n",
      "          89       0.92      0.88      0.90       100\n",
      "         103       0.97      0.89      0.93        80\n",
      "         118       0.83      0.70      0.76       111\n",
      "         125       0.73      0.91      0.81       106\n",
      "         150       0.95      0.91      0.92        95\n",
      "         163       0.95      0.93      0.94        81\n",
      "         196       1.00      0.96      0.98        97\n",
      "         198       0.88      0.65      0.75       101\n",
      "         200       0.96      0.95      0.96        86\n",
      "         201       0.84      0.77      0.80        94\n",
      "         211       0.92      0.98      0.95       124\n",
      "         226       0.97      0.91      0.94        81\n",
      "         229       0.92      0.90      0.91        63\n",
      "         233       0.99      0.87      0.92        84\n",
      "         248       0.92      0.96      0.94        85\n",
      "         250       0.95      0.94      0.94        94\n",
      "         254       0.94      0.89      0.92        75\n",
      "         289       0.99      0.97      0.98        69\n",
      "         298       0.84      0.99      0.91        82\n",
      "         302       0.97      0.94      0.95        99\n",
      "         307       0.87      0.92      0.90        89\n",
      "         311       0.98      0.96      0.97        97\n",
      "         322       0.90      0.91      0.91        90\n",
      "         328       0.97      0.90      0.93        78\n",
      "         332       1.00      0.98      0.99        46\n",
      "         374       1.00      0.99      0.99        85\n",
      "         403       0.92      0.99      0.95        72\n",
      "         405       0.94      0.91      0.92       107\n",
      "         412       0.99      1.00      0.99        73\n",
      "         426       0.85      1.00      0.92        95\n",
      "         441       0.95      0.90      0.93        84\n",
      "         445       1.00      1.00      1.00        39\n",
      "         446       0.85      0.89      0.87        85\n",
      "         458       0.96      0.93      0.94        73\n",
      "         460       0.98      0.98      0.98       102\n",
      "         481       0.99      0.95      0.97        98\n",
      "         587       0.99      0.94      0.97       106\n",
      "         625       1.00      0.95      0.97        77\n",
      "         669       0.97      0.91      0.94        98\n",
      "         696       0.88      0.78      0.83        65\n",
      "         730       0.97      0.96      0.96       125\n",
      "         831       1.00      0.99      0.99        94\n",
      "         839       1.00      0.97      0.99        80\n",
      "         887       0.99      0.94      0.97        89\n",
      "         909       0.94      0.95      0.95        84\n",
      "         911       0.98      0.99      0.98        94\n",
      "        1034       0.79      0.85      0.81        65\n",
      "        1040       0.91      0.85      0.88        68\n",
      "        1069       0.96      1.00      0.98        67\n",
      "        1081       0.98      0.93      0.96        92\n",
      "        1088       0.79      0.95      0.86        86\n",
      "        1098       0.97      0.83      0.89        69\n",
      "        1116       1.00      0.95      0.98        87\n",
      "        1183       1.00      0.60      0.75        53\n",
      "        1235       0.74      0.81      0.77        95\n",
      "        1246       0.85      0.91      0.88        92\n",
      "        1263       0.83      0.97      0.90        75\n",
      "        1334       0.72      0.92      0.81        73\n",
      "        1355       0.94      0.99      0.96        67\n",
      "        1363       0.97      0.95      0.96        62\n",
      "        1447       0.98      0.94      0.96        93\n",
      "        1455       0.93      0.97      0.95        94\n",
      "        1502       0.90      0.88      0.89       106\n",
      "        1553       0.95      0.86      0.90        70\n",
      "        1578       0.89      0.95      0.91        91\n",
      "        1594       0.95      0.96      0.95        90\n",
      "        1624       0.94      0.95      0.95        86\n",
      "        1723       1.00      1.00      1.00        79\n",
      "        1737       0.95      0.90      0.93       104\n",
      "        1743       0.86      0.90      0.88        68\n",
      "        1841       0.95      0.91      0.93        87\n",
      "        1867       0.96      0.94      0.95       102\n",
      "        1898       0.84      0.85      0.85       100\n",
      "        1926       0.85      0.93      0.89        95\n",
      "        1963       0.78      0.78      0.78        87\n",
      "        1970       0.95      0.99      0.97        90\n",
      "        1992       1.00      0.97      0.99        34\n",
      "        2002       0.90      0.91      0.91        82\n",
      "        2007       0.72      0.84      0.77        79\n",
      "        2092       1.00      0.96      0.98        85\n",
      "        2136       0.90      0.93      0.91        92\n",
      "        2159       1.00      0.99      0.99        73\n",
      "        2182       0.97      0.92      0.94        83\n",
      "        2196       0.94      0.88      0.91       100\n",
      "        2289       0.95      0.81      0.88        91\n",
      "        2384       0.93      1.00      0.96        67\n",
      "        2391       0.93      0.96      0.94        89\n",
      "        2416       0.87      0.73      0.80        90\n",
      "        2436       0.91      0.90      0.91        94\n",
      "        2514       0.91      0.99      0.95        76\n",
      "        2518       0.98      0.97      0.97        86\n",
      "        2691       0.97      0.88      0.92        69\n",
      "        2764       0.98      0.98      0.98       106\n",
      "        2817       0.94      0.96      0.95        82\n",
      "        2836       0.99      1.00      0.99        67\n",
      "        2843       0.99      0.98      0.98        87\n",
      "        2893       0.83      0.92      0.87        78\n",
      "        2910       0.94      1.00      0.97        51\n",
      "        2911       0.83      0.95      0.89        95\n",
      "        2952       0.99      0.93      0.95        80\n",
      "        2989       0.97      0.96      0.97       107\n",
      "        3112       0.81      0.95      0.88        78\n",
      "        3168       0.93      0.96      0.95        84\n",
      "        3214       1.00      1.00      1.00        91\n",
      "        3235       0.96      0.94      0.95        94\n",
      "        3240       0.83      0.94      0.88        95\n",
      "        3242       0.88      0.92      0.90        73\n",
      "        3259       0.71      0.64      0.67        85\n",
      "        3374       0.98      0.91      0.94       106\n",
      "        3436       0.88      0.84      0.86        86\n",
      "        3440       0.73      0.86      0.79        84\n",
      "        3486       1.00      0.98      0.99       110\n",
      "        3526       0.95      0.90      0.92        80\n",
      "        3607       0.97      0.96      0.96        71\n",
      "        3664       0.92      0.96      0.94        76\n",
      "        3699       0.91      0.97      0.94        92\n",
      "        3723       0.93      0.99      0.96        81\n",
      "        3807       0.97      0.82      0.89        92\n",
      "        3830       0.89      0.96      0.92        82\n",
      "        3857       1.00      1.00      1.00        97\n",
      "        3879       0.96      0.98      0.97        81\n",
      "        3947       0.98      0.98      0.98        94\n",
      "        3982       0.83      0.90      0.86        70\n",
      "        3983       0.88      0.95      0.91        78\n",
      "        4014       0.96      0.92      0.94       123\n",
      "        4018       0.95      0.96      0.96        78\n",
      "        4051       0.98      0.94      0.96        94\n",
      "        4088       0.81      0.79      0.80       100\n",
      "        4137       0.86      0.87      0.86        92\n",
      "        4160       0.99      1.00      0.99        82\n",
      "        4195       0.97      0.93      0.95       105\n",
      "        4214       0.98      0.93      0.96        59\n",
      "        4267       0.79      0.88      0.83        77\n",
      "        4297       0.78      0.84      0.81        83\n",
      "        4340       0.72      0.74      0.73        85\n",
      "        4362       0.96      0.96      0.96        73\n",
      "        4397       0.98      1.00      0.99        87\n",
      "        4406       0.99      0.85      0.91        78\n",
      "        4441       0.86      0.87      0.86        90\n",
      "        4481       0.99      0.88      0.93        76\n",
      "        4640       0.94      0.92      0.93       107\n",
      "        4680       0.80      0.65      0.72       106\n",
      "        4788       0.90      0.99      0.94        95\n",
      "        4813       0.91      0.99      0.95        81\n",
      "        4830       0.86      0.90      0.88        83\n",
      "        4853       0.87      0.90      0.89        99\n",
      "        4859       1.00      0.97      0.99        72\n",
      "        4898       0.99      0.97      0.98        74\n",
      "        5022       0.90      0.87      0.89        94\n",
      "        5049       1.00      0.97      0.98        97\n",
      "        5104       1.00      0.98      0.99        92\n",
      "        5163       0.86      0.91      0.89        89\n",
      "        5192       0.96      0.84      0.90        97\n",
      "        5322       0.90      0.96      0.93        83\n",
      "        5339       0.86      0.86      0.86       109\n",
      "        5390       0.97      0.87      0.91        98\n",
      "        5393       0.78      0.93      0.85        90\n",
      "        5456       0.97      0.97      0.97        73\n",
      "        5463       0.99      0.97      0.98        88\n",
      "        5514       1.00      0.88      0.94        67\n",
      "        5561       0.89      0.77      0.83       106\n",
      "        5652       0.98      0.90      0.94        90\n",
      "        5678       0.95      0.92      0.94        79\n",
      "        5688       0.98      0.98      0.98        93\n",
      "        5703       0.97      0.88      0.92        89\n",
      "        5750       0.99      0.96      0.98        83\n",
      "        5778       1.00      0.98      0.99        66\n",
      "        5789       0.81      0.82      0.82        78\n",
      "        5808       0.90      0.95      0.93        98\n",
      "        5867       0.80      0.81      0.81        96\n",
      "        6000       0.81      0.93      0.87        59\n",
      "        6019       0.99      0.98      0.98        87\n",
      "        6064       0.94      0.95      0.95        83\n",
      "        6078       0.77      0.82      0.80        88\n",
      "        6081       0.89      0.93      0.91        92\n",
      "        6147       0.93      0.97      0.95        90\n",
      "        6181       0.97      0.96      0.97        79\n",
      "        6209       0.87      0.89      0.88        84\n",
      "        6272       0.88      0.77      0.82        88\n",
      "        6367       0.86      0.78      0.82        78\n",
      "        6385       0.93      0.88      0.90       106\n",
      "        6415       0.70      0.82      0.76        91\n",
      "        6437       0.88      0.93      0.90        71\n",
      "        6454       0.94      0.96      0.95        83\n",
      "        6476       0.99      0.97      0.98        93\n",
      "        6529       0.96      0.80      0.88        87\n",
      "        6531       0.76      0.67      0.71        96\n",
      "        6563       0.94      0.99      0.96        75\n",
      "        6818       0.68      0.74      0.71        90\n",
      "        6836       0.90      0.91      0.90        85\n",
      "        6848       0.93      0.87      0.90        75\n",
      "        6880       0.99      0.96      0.97        78\n",
      "        6925       0.90      0.90      0.90        70\n",
      "        7059       0.97      0.83      0.89        82\n",
      "        7067       0.97      0.96      0.97        78\n",
      "        7078       0.94      0.97      0.95        94\n",
      "        7113       0.90      0.94      0.92        90\n",
      "        7148       0.99      0.97      0.98        90\n",
      "        7178       0.90      0.94      0.92        85\n",
      "        7190       0.91      0.89      0.90       100\n",
      "        7226       0.96      0.91      0.93        78\n",
      "        7264       1.00      0.94      0.97        84\n",
      "        7278       0.79      0.76      0.77        87\n",
      "        7302       0.95      0.89      0.92        98\n",
      "        7312       0.89      0.64      0.74        25\n",
      "        7367       0.96      0.94      0.95        96\n",
      "        7402       1.00      1.00      1.00        90\n",
      "        7447       0.95      0.97      0.96        80\n",
      "        7505       0.78      0.90      0.84        91\n",
      "        7511       0.98      0.94      0.96        67\n",
      "        7517       0.79      0.99      0.87        67\n",
      "        7635       0.98      1.00      0.99        91\n",
      "        7780       0.95      0.91      0.93        77\n",
      "        7794       0.97      0.99      0.98        73\n",
      "        7800       1.00      0.95      0.98        84\n",
      "        7859       0.95      0.92      0.94        88\n",
      "        8014       0.91      0.61      0.73        49\n",
      "        8051       0.97      0.89      0.93        94\n",
      "        8063       0.97      0.92      0.94       119\n",
      "        8088       0.97      0.95      0.96        87\n",
      "        8095       0.99      0.92      0.95        78\n",
      "        8098       0.96      0.92      0.94        87\n",
      "        8108       0.93      0.91      0.92        91\n",
      "        8123       0.97      0.95      0.96        75\n",
      "        8226       0.94      0.85      0.90        96\n",
      "        8238       0.94      0.94      0.94        85\n",
      "        8312       0.97      0.97      0.97        68\n",
      "        8324       0.94      0.90      0.92        83\n",
      "        8419       1.00      0.95      0.97        59\n",
      "        8425       0.91      0.93      0.92        85\n",
      "        8465       0.59      0.95      0.73        84\n",
      "        8468       0.93      1.00      0.96        90\n",
      "        8580       1.00      0.98      0.99        64\n",
      "        8609       0.99      1.00      0.99        83\n",
      "        8629       0.79      0.83      0.81        92\n",
      "        8630       0.97      0.99      0.98        72\n",
      "        8747       0.97      1.00      0.99        71\n",
      "        8770       0.99      0.97      0.98        92\n",
      "        8797       0.75      0.91      0.82        78\n",
      "        8838       0.99      1.00      1.00       101\n",
      "        8975       0.86      0.99      0.92        90\n",
      "\n",
      "    accuracy                           0.92     21405\n",
      "   macro avg       0.92      0.92      0.92     21405\n",
      "weighted avg       0.92      0.92      0.92     21405\n",
      "\n"
     ]
    }
   ],
   "source": [
    "print(classification_report(y_test, y_pred))"
   ]
  },
  {
   "cell_type": "markdown",
   "metadata": {},
   "source": [
    "<a id='save'></a>"
   ]
  },
  {
   "cell_type": "markdown",
   "metadata": {},
   "source": [
    "### <b>6.2. Saving Model For Future Usage </b>\n"
   ]
  },
  {
   "cell_type": "code",
   "execution_count": 49,
   "metadata": {},
   "outputs": [],
   "source": [
    "model.save('model.keras')"
   ]
  },
  {
   "cell_type": "markdown",
   "metadata": {},
   "source": [
    "<a id='conclusion'></a>"
   ]
  },
  {
   "cell_type": "markdown",
   "metadata": {},
   "source": [
    "## <b>7. Conclusion </b>"
   ]
  },
  {
   "cell_type": "markdown",
   "metadata": {},
   "source": [
    "The presented model is a convolutional neural network (CNN) with a sequential architecture. The architecture comprises multiple layers, including Conv1D (1D convolutional), MaxPooling1D (1D max-pooling), Dropout, Flatten, and Dense layers. The model is designed for a classification task with 251 output classes.\n",
    "\n",
    "The model has a total of 565,307 parameters, all of which are trainable. The training process was carried out over 50 epochs, using the categorical cross-entropy loss function and the Adam optimizer. The initial training accuracy was around 8.61%, and the validation accuracy improved over the epochs, reaching 79.60% on the validation set.\n",
    "\n",
    "The classification report shows detailed performance metrics for each class, including precision, recall, and F1-score. The overall accuracy on the test set is 92%.\n",
    "\n",
    "The model demonstrates good performance across multiple classes, but further analysis and potential fine-tuning can be performed based on specific requirements and goals.\n",
    "\n",
    "\n",
    "Precision and Recall of Pneumonia class were used."
   ]
  },
  {
   "cell_type": "markdown",
   "metadata": {},
   "source": [
    "| SNo. | Model | Parameters | Test Accuracy | Train Accuracy | Validation Accuracy | \n",
    "| -------- | -------- | -------- | -------- | -------- | -------- |\n",
    "| 1 | CNN Sequential |  565,307 | <b>91.70%</b> |  <b> 74.78% </b> |  <b> 91.71% </b> |"
   ]
  },
  {
   "cell_type": "markdown",
   "metadata": {},
   "source": [
    "<a id=\"learning\"></a>"
   ]
  },
  {
   "cell_type": "markdown",
   "metadata": {},
   "source": [
    "## <b>8. Learning Out Comes </b>\n",
    "\n",
    "1. Demonstrated proficiency in **organizing and preprocessing audio data**, encompassing tasks like file format conversion and feature extraction.\n",
    "\n",
    "2. Implemented effective **data augmentation methods**, including the addition of noise and pitch modification, to enrich the diversity of the training dataset.\n",
    "\n",
    "3. Enhanced data management through systematic **file organization and cleanup**, consolidating files and eliminating redundant subdirectories.\n",
    "\n",
    "4. Streamlined dataset documentation by **extracting information and creating a CSV file**, facilitating easy referencing and analysis.\n",
    "\n",
    "5. Extracted comprehensive audio features, such as **Zero Crossing Rate and Mel Spectrogram**, providing a nuanced representation of the audio data.\n",
    "\n",
    "6. Applied **one-hot encoding** to transform categorical labels into a format suitable for multiclass classification, enhancing model compatibility.\n",
    "\n",
    "7. Implemented a well-structured **Convolutional Neural Network (CNN) architecture** using TensorFlow and Keras, showcasing proficiency in model design.\n",
    "\n",
    "8. Incorporated optimization strategies like the **Adam optimizer and learning rate reduction** during model training for improved efficiency.\n",
    "9. Evaluated model performance using metrics and visualizations, including **accuracy over epochs**, offering valuable insights into the model's capabilities.\n",
    "10. Saved the trained CNN model in the **Keras format**, demonstrating proficiency in model preservation for future deployment and reuse."
   ]
  },
  {
   "cell_type": "markdown",
   "metadata": {},
   "source": []
  }
 ],
 "metadata": {
  "kernelspec": {
   "display_name": "Python 3 (ipykernel)",
   "language": "python",
   "name": "python3"
  },
  "language_info": {
   "codemirror_mode": {
    "name": "ipython",
    "version": 3
   },
   "file_extension": ".py",
   "mimetype": "text/x-python",
   "name": "python",
   "nbconvert_exporter": "python",
   "pygments_lexer": "ipython3",
   "version": "3.10.10"
  }
 },
 "nbformat": 4,
 "nbformat_minor": 4
}
